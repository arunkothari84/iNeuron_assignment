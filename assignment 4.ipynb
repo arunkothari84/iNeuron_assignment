{
 "cells": [
  {
   "cell_type": "markdown",
   "metadata": {},
   "source": [
    "# QUES 1"
   ]
  },
  {
   "cell_type": "code",
   "execution_count": 92,
   "metadata": {},
   "outputs": [],
   "source": [
    "import math\n",
    "class triangle:\n",
    "    def __init__(self):\n",
    "        self.side = []\n",
    "        print(\"Enter the sides of the triangle: \")\n",
    "        for i in range(1, 4):\n",
    "            self.side.append(input())\n",
    "\n",
    "class area(triangle):\n",
    "    def __init__(self):\n",
    "        super().__init__()\n",
    "    \n",
    "    def cal_area(self):\n",
    "        self.s = 0\n",
    "        for i in self.side:\n",
    "            self.s = self.s+float(i)\n",
    "        else:\n",
    "            self.s = self.s/2\n",
    "        return math.sqrt(self.s*(self.s-float(self.side[0]))*(self.s-float(self.side[1]))*(self.s-float(self.side[2])))"
   ]
  },
  {
   "cell_type": "code",
   "execution_count": 93,
   "metadata": {},
   "outputs": [
    {
     "name": "stdout",
     "output_type": "stream",
     "text": [
      "Enter the sides of the triangle: \n",
      "5\n",
      "5\n",
      "5\n"
     ]
    }
   ],
   "source": [
    "temp = area()\n",
    "temp.cal_area()"
   ]
  },
  {
   "cell_type": "markdown",
   "metadata": {},
   "source": [
    "# QUES 2"
   ]
  },
  {
   "cell_type": "code",
   "execution_count": 152,
   "metadata": {},
   "outputs": [],
   "source": [
    "class NLP:\n",
    "    def __init__(self, words, n):\n",
    "        self.words = words\n",
    "        self.filterwords = []\n",
    "        for i in self.words:\n",
    "            if len(i) < n:\n",
    "                self.filterwords.append(i)\n",
    "                \n",
    "    def filter_words(self):\n",
    "        return self.filterwords"
   ]
  },
  {
   "cell_type": "code",
   "execution_count": 153,
   "metadata": {},
   "outputs": [
    {
     "data": {
      "text/plain": [
       "['arun', 'NLP']"
      ]
     },
     "execution_count": 153,
     "metadata": {},
     "output_type": "execute_result"
    }
   ],
   "source": [
    "temp = NLP(['arun', 'kothari', 'NLP', 'iNeuone'],7)\n",
    "temp.filter_words()"
   ]
  },
  {
   "cell_type": "code",
   "execution_count": null,
   "metadata": {},
   "outputs": [],
   "source": []
  },
  {
   "cell_type": "markdown",
   "metadata": {},
   "source": [
    "# QUES 3"
   ]
  },
  {
   "cell_type": "code",
   "execution_count": 160,
   "metadata": {},
   "outputs": [
    {
     "name": "stdout",
     "output_type": "stream",
     "text": [
      "[2, 3, 6]\n"
     ]
    }
   ],
   "source": [
    "lst = ['ab','cde','efghjo'] \n",
    "\n",
    "print([(lambda x: len(x))(x) for x in lst])"
   ]
  },
  {
   "cell_type": "code",
   "execution_count": null,
   "metadata": {},
   "outputs": [],
   "source": []
  },
  {
   "cell_type": "markdown",
   "metadata": {},
   "source": [
    "# QUES 4"
   ]
  },
  {
   "cell_type": "code",
   "execution_count": null,
   "metadata": {},
   "outputs": [],
   "source": [
    "print((lambda x))"
   ]
  }
 ],
 "metadata": {
  "kernelspec": {
   "display_name": "Python 3",
   "language": "python",
   "name": "python3"
  },
  "language_info": {
   "codemirror_mode": {
    "name": "ipython",
    "version": 3
   },
   "file_extension": ".py",
   "mimetype": "text/x-python",
   "name": "python",
   "nbconvert_exporter": "python",
   "pygments_lexer": "ipython3",
   "version": "3.8.5"
  }
 },
 "nbformat": 4,
 "nbformat_minor": 4
}
